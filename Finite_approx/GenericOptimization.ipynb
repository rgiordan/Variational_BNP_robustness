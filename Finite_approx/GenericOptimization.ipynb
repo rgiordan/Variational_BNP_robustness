{
 "cells": [
  {
   "cell_type": "code",
   "execution_count": 1,
   "metadata": {},
   "outputs": [],
   "source": [
    "import autograd.numpy as np\n",
    "import autograd.scipy as sp\n",
    "import matplotlib.pyplot as plt\n",
    "from copy import deepcopy\n",
    "\n",
    "from valez_finite_VI_lib import *\n",
    "from generic_optimization_lib import *"
   ]
  },
  {
   "cell_type": "code",
   "execution_count": 2,
   "metadata": {
    "collapsed": true
   },
   "outputs": [],
   "source": [
    "def check_approx_eq(x, y, tol=1e-12):\n",
    "    return np.max(np.abs(x - y)) < tol"
   ]
  },
  {
   "cell_type": "code",
   "execution_count": 3,
   "metadata": {},
   "outputs": [],
   "source": [
    "np.random.seed(12321) # this is a seed where VI works well\n",
    "\n",
    "alpha = 10 # IBP parameter\n",
    "\n",
    "Num_samples = 5000 # sample size\n",
    "D = 2 # dimension\n",
    "# so X will be a N\\times D matrix\n",
    "\n",
    "sigma_A = 100\n",
    "\n",
    "sigma_eps = .1 # variance of noise\n",
    "\n",
    "K_inf = 3 # take to be large for a good approximation to the IBP\n",
    "\n",
    "Pi, Z, mu, A, X = generate_data(Num_samples, D, K_inf, sigma_A, sigma_eps)\n",
    "\n",
    "K_approx = deepcopy(K_inf) # variational truncation\n",
    "\n",
    "tau, nu, phi_mu, phi_var = initialize_parameters(Num_samples, D, K_approx)\n",
    "nu_init = np.round(nu * (nu >= 0.9) + nu * (nu <= 0.1)) + nu * (nu >= 0.1) * (nu <= 0.9)\n",
    "\n",
    "Data_shape = {'D':D, 'N': Num_samples , 'K':K_approx}\n",
    "sigmas = {'eps': sigma_eps, 'A': sigma_A}"
   ]
  },
  {
   "cell_type": "code",
   "execution_count": 4,
   "metadata": {},
   "outputs": [],
   "source": [
    "assert check_approx_eq(unpack_tau(pack_tau(tau), K_approx, D), tau)\n",
    "assert check_approx_eq(unpack_phi_mu(pack_phi_mu(phi_mu), K_approx, D), phi_mu)\n",
    "assert check_approx_eq(unpack_phi_var(pack_phi_var(phi_var)), phi_var)"
   ]
  },
  {
   "cell_type": "code",
   "execution_count": 5,
   "metadata": {},
   "outputs": [],
   "source": [
    "params = pack_params(deepcopy(tau), deepcopy(phi_mu), deepcopy(phi_var))\n",
    "tau0, phi_mu0, phi_var0 = unpack_params(params, K_approx, D)\n",
    "\n",
    "assert check_approx_eq(tau0, tau)\n",
    "assert check_approx_eq(phi_mu0, phi_mu)\n",
    "assert check_approx_eq(phi_var0, phi_var)"
   ]
  },
  {
   "cell_type": "code",
   "execution_count": null,
   "metadata": {
    "collapsed": true
   },
   "outputs": [],
   "source": []
  }
 ],
 "metadata": {
  "kernelspec": {
   "display_name": "Python 2",
   "language": "python",
   "name": "python2"
  },
  "language_info": {
   "codemirror_mode": {
    "name": "ipython",
    "version": 2
   },
   "file_extension": ".py",
   "mimetype": "text/x-python",
   "name": "python",
   "nbconvert_exporter": "python",
   "pygments_lexer": "ipython2",
   "version": "2.7.12"
  }
 },
 "nbformat": 4,
 "nbformat_minor": 2
}
